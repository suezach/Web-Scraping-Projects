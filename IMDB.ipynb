{
 "cells": [
  {
   "cell_type": "markdown",
   "id": "56513a89",
   "metadata": {},
   "source": [
    "1. Set google as starting page and \n",
    "2. enter text 'Top 100 movies of all times'\n",
    "3. Press enter and click on link correspomding to imdb website\n",
    "4. create wait time\n",
    "5. self scroll all the way to the 50th best movie.\n",
    "6. Take a screenshot\n",
    "7. Take screenshot of the poster of the 50th movie\n"
   ]
  },
  {
   "cell_type": "code",
   "execution_count": 1,
   "id": "0e6b0219",
   "metadata": {},
   "outputs": [],
   "source": [
    "# Import libraries\n",
    "\n",
    "from selenium import webdriver\n",
    "from selenium.webdriver.common.by import By\n",
    "from selenium.webdriver.common.keys import Keys\n",
    "from selenium.webdriver.support.ui import WebDriverWait\n",
    "from selenium.webdriver.support import expected_conditions as EC\n",
    "from selenium.webdriver.common.action_chains import ActionChains # import library to scroll to specific element \n",
    "import time"
   ]
  },
  {
   "cell_type": "code",
   "execution_count": 2,
   "id": "5bc60f02",
   "metadata": {},
   "outputs": [
    {
     "name": "stderr",
     "output_type": "stream",
     "text": [
      "/var/folders/8p/ng4nv8tj7yj2m_xtn234qv_h0000gn/T/ipykernel_5586/3430411186.py:3: DeprecationWarning: executable_path has been deprecated, please pass in a Service object\n",
      "  driver = webdriver.Chrome('/Users/zachariah/Downloads/chromedriver')\n"
     ]
    }
   ],
   "source": [
    "# Get the chrome driver and put it in the variable driver\n",
    "\n",
    "driver = webdriver.Chrome('/Users/zachariah/Downloads/chromedriver')"
   ]
  },
  {
   "cell_type": "code",
   "execution_count": 3,
   "id": "e7b17ce3",
   "metadata": {},
   "outputs": [],
   "source": [
    "# set google as starting page\n",
    "\n",
    "driver.get('https://www.google.com')"
   ]
  },
  {
   "cell_type": "code",
   "execution_count": 4,
   "id": "9a6d2e71",
   "metadata": {},
   "outputs": [
    {
     "data": {
      "text/plain": [
       "<selenium.webdriver.remote.webelement.WebElement (session=\"ce4698efe1855e5ea6ce1723acd13bdc\", element=\"da75fb0d-904e-4d94-b32d-7e40b46505bd\")>"
      ]
     },
     "execution_count": 4,
     "metadata": {},
     "output_type": "execute_result"
    }
   ],
   "source": [
    "# Get the xpath of the input box on the google homepage\n",
    "\n",
    "box = driver.find_element(By.XPATH, '/html/body/div[1]/div[3]/form/div[1]/div[1]/div[1]/div/div[2]/input')\n",
    "box\n"
   ]
  },
  {
   "cell_type": "code",
   "execution_count": 5,
   "id": "4a031321",
   "metadata": {},
   "outputs": [],
   "source": [
    "# Input Text into the box\n",
    "\n",
    "box.send_keys('Top 100 movies of all times')"
   ]
  },
  {
   "cell_type": "code",
   "execution_count": 6,
   "id": "2f9df042",
   "metadata": {},
   "outputs": [],
   "source": [
    "# Press enter\n",
    "\n",
    "box.send_keys(Keys.ENTER)"
   ]
  },
  {
   "cell_type": "code",
   "execution_count": 7,
   "id": "d4113952",
   "metadata": {},
   "outputs": [],
   "source": [
    "# Click on the link corresponding to the imdb website\n",
    "\n",
    "link = driver.find_element(By.XPATH, '//*[@id=\"rso\"]/div[1]/div/div/div[1]/div/a')\n",
    "link.click()"
   ]
  },
  {
   "cell_type": "code",
   "execution_count": 8,
   "id": "aa97621b",
   "metadata": {},
   "outputs": [],
   "source": [
    "# Create a wait time for the entire page to load\n",
    "\n",
    "time.sleep(5)"
   ]
  },
  {
   "cell_type": "code",
   "execution_count": 9,
   "id": "3382966a",
   "metadata": {},
   "outputs": [
    {
     "data": {
      "text/plain": [
       "46824"
      ]
     },
     "execution_count": 9,
     "metadata": {},
     "output_type": "execute_result"
    }
   ],
   "source": [
    "# Self scroll to the 50th movie on the top 100 movies.\n",
    "\n",
    "driver.execute_script('return document.body.scrollHeight') # this will return the height of the document"
   ]
  },
  {
   "cell_type": "code",
   "execution_count": 10,
   "id": "43f4cadc",
   "metadata": {},
   "outputs": [],
   "source": [
    "# Scroll to the bottom of the page\n",
    "\n",
    "driver.execute_script('window.scrollTo(0, document.body.scrollHeight)') # this reaches the bottom of the page"
   ]
  },
  {
   "cell_type": "code",
   "execution_count": 11,
   "id": "43d7c672",
   "metadata": {},
   "outputs": [],
   "source": [
    "# Code to self scroll to the 50th movie on the list.\n",
    "\n",
    "element = driver.find_element(By.XPATH, '//*[@id=\"main\"]/div/div[4]/div[3]/div[50]')\n",
    "\n",
    "actions = ActionChains(driver)\n",
    "actions.move_to_element(element).perform()"
   ]
  },
  {
   "cell_type": "code",
   "execution_count": 13,
   "id": "7b484352",
   "metadata": {},
   "outputs": [
    {
     "data": {
      "text/plain": [
       "True"
      ]
     },
     "execution_count": 13,
     "metadata": {},
     "output_type": "execute_result"
    }
   ],
   "source": [
    "# Take a screen shot of the page\n",
    "\n",
    "driver.save_screenshot('/Users/zachariah/Downloads/imdb.png')"
   ]
  },
  {
   "cell_type": "code",
   "execution_count": 14,
   "id": "0912448e",
   "metadata": {},
   "outputs": [
    {
     "data": {
      "text/plain": [
       "True"
      ]
     },
     "execution_count": 14,
     "metadata": {},
     "output_type": "execute_result"
    }
   ],
   "source": [
    "# Take screenshot of the poster of the 50th movie\n",
    "\n",
    "driver.find_element(By.XPATH, '//*[@id=\"main\"]/div/div[4]/div[3]/div[50]/div[1]/a/img').screenshot('/Users/zachariah/Downloads/imdb50.png')\n"
   ]
  },
  {
   "cell_type": "code",
   "execution_count": null,
   "id": "7e5cf3e1",
   "metadata": {},
   "outputs": [],
   "source": []
  }
 ],
 "metadata": {
  "kernelspec": {
   "display_name": "Python 3 (ipykernel)",
   "language": "python",
   "name": "python3"
  },
  "language_info": {
   "codemirror_mode": {
    "name": "ipython",
    "version": 3
   },
   "file_extension": ".py",
   "mimetype": "text/x-python",
   "name": "python",
   "nbconvert_exporter": "python",
   "pygments_lexer": "ipython3",
   "version": "3.9.12"
  }
 },
 "nbformat": 4,
 "nbformat_minor": 5
}
