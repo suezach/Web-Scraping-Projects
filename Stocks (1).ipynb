{
 "cells": [
  {
   "cell_type": "markdown",
   "id": "372a82be",
   "metadata": {},
   "source": [
    "SCRAPPING THE APPLE STOCK PRICES OFF THE WEBSITE MARKETWATCH"
   ]
  },
  {
   "cell_type": "markdown",
   "id": "cd1a8378",
   "metadata": {},
   "source": [
    "Scrap 4 pieces of data:\n",
    "\n",
    "    1. Apple Stock Price\n",
    "    2. Closing Price\n",
    "    3. 52-week Range of Prices\n",
    "    4. Analyst Rating that is seen under the Avg flag.\n"
   ]
  },
  {
   "cell_type": "code",
   "execution_count": 1,
   "id": "e2e97f58",
   "metadata": {},
   "outputs": [],
   "source": [
    "# Import the libraries\n",
    "\n",
    "import requests\n",
    "from bs4 import BeautifulSoup"
   ]
  },
  {
   "cell_type": "code",
   "execution_count": 2,
   "id": "d4c2debd",
   "metadata": {},
   "outputs": [],
   "source": [
    "# Get the url of the Apple Stock webpage\n",
    "\n",
    "url = 'https://www.marketwatch.com/investing/stock/aapl?mod=search_symbol'"
   ]
  },
  {
   "cell_type": "code",
   "execution_count": 3,
   "id": "8873628c",
   "metadata": {},
   "outputs": [
    {
     "data": {
      "text/plain": [
       "<Response [200]>"
      ]
     },
     "execution_count": 3,
     "metadata": {},
     "output_type": "execute_result"
    }
   ],
   "source": [
    "# Check to see if we can access the HTML and put the output into variable page\n",
    "\n",
    "page = requests.get(url)\n",
    "page"
   ]
  },
  {
   "cell_type": "code",
   "execution_count": 4,
   "id": "ffbf0c5c",
   "metadata": {},
   "outputs": [],
   "source": [
    "#Grab the HTML as text in page.text, amd lxml parser puts the text back into html format for python.\n",
    "# HTML of webpage is now in Python and in the 'soup' variable.\n",
    "\n",
    "soup = BeautifulSoup(page.text, 'lxml')\n",
    "#soup"
   ]
  },
  {
   "cell_type": "code",
   "execution_count": 5,
   "id": "04f7886f",
   "metadata": {},
   "outputs": [
    {
     "data": {
      "text/plain": [
       "'162.47'"
      ]
     },
     "execution_count": 5,
     "metadata": {},
     "output_type": "execute_result"
    }
   ],
   "source": [
    "# Get the Stock Price for Apple Stock\n",
    "\n",
    "stock_price = soup.find('bg-quote', class_='value').text\n",
    "stock_price"
   ]
  },
  {
   "cell_type": "code",
   "execution_count": 6,
   "id": "3dd41aee",
   "metadata": {},
   "outputs": [
    {
     "data": {
      "text/plain": [
       "'$163.62 '"
      ]
     },
     "execution_count": 6,
     "metadata": {},
     "output_type": "execute_result"
    }
   ],
   "source": [
    "# Get the Closing price of the Apple Stock\n",
    "\n",
    "closing_price = soup.find('td', class_ = 'table__cell u-semi').text\n",
    "closing_price"
   ]
  },
  {
   "cell_type": "code",
   "execution_count": 7,
   "id": "063f4a26",
   "metadata": {},
   "outputs": [
    {
     "data": {
      "text/plain": [
       "<div class=\"range__header\">\n",
       "<span class=\"primary\">129.04</span>\n",
       "<span class=\"secondary\">52 Week Range</span>\n",
       "<span class=\"primary\">182.94</span>\n",
       "</div>"
      ]
     },
     "execution_count": 7,
     "metadata": {},
     "output_type": "execute_result"
    }
   ],
   "source": [
    "# 52 week range of prices\n",
    "\n",
    "# First get the html code for the entire range\n",
    "\n",
    "prices = soup.find_all('div', class_ = 'range__header')[2]\n",
    "prices"
   ]
  },
  {
   "cell_type": "code",
   "execution_count": 8,
   "id": "0ad19484",
   "metadata": {},
   "outputs": [
    {
     "data": {
      "text/plain": [
       "'129.04'"
      ]
     },
     "execution_count": 8,
     "metadata": {},
     "output_type": "execute_result"
    }
   ],
   "source": [
    "start_range = prices.find_all('span', class_ = 'primary')[0].text\n",
    "start_range"
   ]
  },
  {
   "cell_type": "code",
   "execution_count": 9,
   "id": "8b3efe2e",
   "metadata": {},
   "outputs": [
    {
     "data": {
      "text/plain": [
       "'182.94'"
      ]
     },
     "execution_count": 9,
     "metadata": {},
     "output_type": "execute_result"
    }
   ],
   "source": [
    "end_range = prices.find_all('span', class_ = 'primary')[1].text\n",
    "end_range"
   ]
  },
  {
   "cell_type": "code",
   "execution_count": 10,
   "id": "c4124837",
   "metadata": {},
   "outputs": [
    {
     "data": {
      "text/plain": [
       "[<ul class=\"analyst__rating\">\n",
       " <li class=\"analyst__option\">Sell</li>\n",
       " <li class=\"analyst__option\">Under</li>\n",
       " <li class=\"analyst__option\">Hold</li>\n",
       " <li class=\"analyst__option active\">Over</li>\n",
       " <li class=\"analyst__option\">Buy</li>\n",
       " </ul>]"
      ]
     },
     "execution_count": 10,
     "metadata": {},
     "output_type": "execute_result"
    }
   ],
   "source": [
    "# Analyst rating as seen under the 'Avg' tag\n",
    "\n",
    "# First extract all the html under the analyst ratings\n",
    "ratings = soup.find_all('ul', class_ = 'analyst__rating')\n",
    "ratings"
   ]
  },
  {
   "cell_type": "code",
   "execution_count": 11,
   "id": "3b22dd5e",
   "metadata": {},
   "outputs": [
    {
     "data": {
      "text/plain": [
       "'Over'"
      ]
     },
     "execution_count": 11,
     "metadata": {},
     "output_type": "execute_result"
    }
   ],
   "source": [
    "# Next extract the right value under the analyst_option active\n",
    "\n",
    "option_rating = soup.find_all('li',class_ = 'analyst__option')[3].text\n",
    "option_rating"
   ]
  },
  {
   "cell_type": "code",
   "execution_count": null,
   "id": "a1ab6463",
   "metadata": {},
   "outputs": [],
   "source": []
  }
 ],
 "metadata": {
  "kernelspec": {
   "display_name": "Python 3 (ipykernel)",
   "language": "python",
   "name": "python3"
  },
  "language_info": {
   "codemirror_mode": {
    "name": "ipython",
    "version": 3
   },
   "file_extension": ".py",
   "mimetype": "text/x-python",
   "name": "python",
   "nbconvert_exporter": "python",
   "pygments_lexer": "ipython3",
   "version": "3.9.12"
  }
 },
 "nbformat": 4,
 "nbformat_minor": 5
}
