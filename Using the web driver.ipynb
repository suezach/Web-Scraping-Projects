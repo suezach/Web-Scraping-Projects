{
 "cells": [
  {
   "cell_type": "code",
   "execution_count": 10,
   "metadata": {},
   "outputs": [
    {
     "name": "stderr",
     "output_type": "stream",
     "text": [
      "/Users/zachariah/opt/anaconda3/lib/python3.7/site-packages/ipykernel_launcher.py:2: DeprecationWarning: executable_path has been deprecated, please pass in a Service object\n",
      "  \n"
     ]
    }
   ],
   "source": [
    "from selenium import webdriver\n",
    "driver = webdriver.Chrome('/usr/local/bin/chromedriver')"
   ]
  },
  {
   "cell_type": "code",
   "execution_count": 11,
   "metadata": {},
   "outputs": [],
   "source": [
    "driver.get('https://www.goat.com/sneakers')"
   ]
  },
  {
   "cell_type": "markdown",
   "metadata": {},
   "source": [
    "//*[@id=\"grid-body\"]/div/div[1]/div[2]/a/div[1]/div[2]/div/div[1]/span"
   ]
  },
  {
   "cell_type": "markdown",
   "metadata": {},
   "source": [
    "## To get the price of the shoe"
   ]
  },
  {
   "cell_type": "code",
   "execution_count": 12,
   "metadata": {},
   "outputs": [
    {
     "data": {
      "text/plain": [
       "'$191'"
      ]
     },
     "execution_count": 12,
     "metadata": {},
     "output_type": "execute_result"
    }
   ],
   "source": [
    "driver.find_element(\"xpath\", '//*[@id=\"grid-body\"]/div/div[1]/div[2]/a/div[1]/div[2]/div/div[1]/span').text"
   ]
  },
  {
   "cell_type": "markdown",
   "metadata": {},
   "source": [
    "## To get the title of the shoe"
   ]
  },
  {
   "cell_type": "code",
   "execution_count": 13,
   "metadata": {},
   "outputs": [
    {
     "data": {
      "text/plain": [
       "\"Air Jordan 6 Retro 'Red Oreo'\""
      ]
     },
     "execution_count": 13,
     "metadata": {},
     "output_type": "execute_result"
    }
   ],
   "source": [
    "driver.find_element(\"xpath\", '//*[@id=\"grid-body\"]/div/div[1]/div[2]/a/div[1]/div[1]/div[1]').text"
   ]
  },
  {
   "cell_type": "markdown",
   "metadata": {},
   "source": [
    "## To get the release date of the shoe"
   ]
  },
  {
   "cell_type": "code",
   "execution_count": 14,
   "metadata": {},
   "outputs": [
    {
     "data": {
      "text/plain": [
       "'Jun 25'"
      ]
     },
     "execution_count": 14,
     "metadata": {},
     "output_type": "execute_result"
    }
   ],
   "source": [
    "driver.find_element(\"xpath\", '//*[@id=\"grid-body\"]/div/div[1]/div[2]/a/div[1]/div[1]/div[2]').text"
   ]
  },
  {
   "cell_type": "markdown",
   "metadata": {},
   "source": [
    "## To find the pices of the first 30 shoes"
   ]
  },
  {
   "cell_type": "code",
   "execution_count": 15,
   "metadata": {},
   "outputs": [
    {
     "name": "stdout",
     "output_type": "stream",
     "text": [
      "$234\n",
      "$191\n",
      "$179\n",
      "$139\n",
      "$269\n",
      "$151\n",
      "$74\n",
      "$130\n",
      "$72\n",
      "$137\n",
      "$181\n",
      "$174\n",
      "$169\n",
      "$124\n",
      "$112\n",
      "$300\n",
      "$104\n",
      "$90\n",
      "$135\n",
      "$290\n",
      "$125\n",
      "$211\n",
      "$188\n",
      "$115\n"
     ]
    },
    {
     "ename": "NoSuchElementException",
     "evalue": "Message: no such element: Unable to locate element: {\"method\":\"xpath\",\"selector\":\"//*[@id=\"grid-body\"]/div/div[1]/div[25]/a/div[1]/div[2]/div/div[1]/span\"}\n  (Session info: chrome=103.0.5060.53)\nStacktrace:\n0   chromedriver                        0x0000000105a89079 chromedriver + 4444281\n1   chromedriver                        0x0000000105a15403 chromedriver + 3970051\n2   chromedriver                        0x00000001056b0038 chromedriver + 409656\n3   chromedriver                        0x00000001056e62fd chromedriver + 631549\n4   chromedriver                        0x00000001056e6581 chromedriver + 632193\n5   chromedriver                        0x00000001057184f4 chromedriver + 836852\n6   chromedriver                        0x00000001057037bd chromedriver + 751549\n7   chromedriver                        0x0000000105716221 chromedriver + 827937\n8   chromedriver                        0x0000000105703683 chromedriver + 751235\n9   chromedriver                        0x00000001056d9a45 chromedriver + 580165\n10  chromedriver                        0x00000001056daa95 chromedriver + 584341\n11  chromedriver                        0x0000000105a5a55d chromedriver + 4253021\n12  chromedriver                        0x0000000105a5f3a1 chromedriver + 4273057\n13  chromedriver                        0x0000000105a6416f chromedriver + 4292975\n14  chromedriver                        0x0000000105a5fdea chromedriver + 4275690\n15  chromedriver                        0x0000000105a3954f chromedriver + 4117839\n16  chromedriver                        0x0000000105a79ed8 chromedriver + 4382424\n17  chromedriver                        0x0000000105a7a05f chromedriver + 4382815\n18  chromedriver                        0x0000000105a908d5 chromedriver + 4475093\n19  libsystem_pthread.dylib             0x00007ff811d5a4e1 _pthread_start + 125\n20  libsystem_pthread.dylib             0x00007ff811d55f6b thread_start + 15\n",
     "output_type": "error",
     "traceback": [
      "\u001b[0;31m---------------------------------------------------------------------------\u001b[0m",
      "\u001b[0;31mNoSuchElementException\u001b[0m                    Traceback (most recent call last)",
      "\u001b[0;32m<ipython-input-15-667cdf389b25>\u001b[0m in \u001b[0;36m<module>\u001b[0;34m\u001b[0m\n\u001b[1;32m      1\u001b[0m \u001b[0;32mfor\u001b[0m \u001b[0mi\u001b[0m \u001b[0;32min\u001b[0m \u001b[0mrange\u001b[0m\u001b[0;34m(\u001b[0m\u001b[0;36m1\u001b[0m\u001b[0;34m,\u001b[0m\u001b[0;36m30\u001b[0m\u001b[0;34m)\u001b[0m\u001b[0;34m:\u001b[0m\u001b[0;34m\u001b[0m\u001b[0;34m\u001b[0m\u001b[0m\n\u001b[0;32m----> 2\u001b[0;31m     \u001b[0mprice\u001b[0m \u001b[0;34m=\u001b[0m \u001b[0mdriver\u001b[0m\u001b[0;34m.\u001b[0m\u001b[0mfind_element\u001b[0m\u001b[0;34m(\u001b[0m\u001b[0;34m\"xpath\"\u001b[0m\u001b[0;34m,\u001b[0m \u001b[0;34m'//*[@id=\"grid-body\"]/div/div[1]/div['\u001b[0m\u001b[0;34m+\u001b[0m\u001b[0mstr\u001b[0m\u001b[0;34m(\u001b[0m\u001b[0mi\u001b[0m\u001b[0;34m)\u001b[0m\u001b[0;34m+\u001b[0m\u001b[0;34m']/a/div[1]/div[2]/div/div[1]/span'\u001b[0m\u001b[0;34m)\u001b[0m\u001b[0;34m.\u001b[0m\u001b[0mtext\u001b[0m\u001b[0;34m\u001b[0m\u001b[0;34m\u001b[0m\u001b[0m\n\u001b[0m\u001b[1;32m      3\u001b[0m     \u001b[0mprint\u001b[0m\u001b[0;34m(\u001b[0m\u001b[0mprice\u001b[0m\u001b[0;34m)\u001b[0m\u001b[0;34m\u001b[0m\u001b[0;34m\u001b[0m\u001b[0m\n",
      "\u001b[0;32m~/opt/anaconda3/lib/python3.7/site-packages/selenium/webdriver/remote/webdriver.py\u001b[0m in \u001b[0;36mfind_element\u001b[0;34m(self, by, value)\u001b[0m\n\u001b[1;32m    857\u001b[0m         return self.execute(Command.FIND_ELEMENT, {\n\u001b[1;32m    858\u001b[0m             \u001b[0;34m'using'\u001b[0m\u001b[0;34m:\u001b[0m \u001b[0mby\u001b[0m\u001b[0;34m,\u001b[0m\u001b[0;34m\u001b[0m\u001b[0;34m\u001b[0m\u001b[0m\n\u001b[0;32m--> 859\u001b[0;31m             'value': value})['value']\n\u001b[0m\u001b[1;32m    860\u001b[0m \u001b[0;34m\u001b[0m\u001b[0m\n\u001b[1;32m    861\u001b[0m     \u001b[0;32mdef\u001b[0m \u001b[0mfind_elements\u001b[0m\u001b[0;34m(\u001b[0m\u001b[0mself\u001b[0m\u001b[0;34m,\u001b[0m \u001b[0mby\u001b[0m\u001b[0;34m=\u001b[0m\u001b[0mBy\u001b[0m\u001b[0;34m.\u001b[0m\u001b[0mID\u001b[0m\u001b[0;34m,\u001b[0m \u001b[0mvalue\u001b[0m\u001b[0;34m=\u001b[0m\u001b[0;32mNone\u001b[0m\u001b[0;34m)\u001b[0m \u001b[0;34m->\u001b[0m \u001b[0mList\u001b[0m\u001b[0;34m[\u001b[0m\u001b[0mWebElement\u001b[0m\u001b[0;34m]\u001b[0m\u001b[0;34m:\u001b[0m\u001b[0;34m\u001b[0m\u001b[0;34m\u001b[0m\u001b[0m\n",
      "\u001b[0;32m~/opt/anaconda3/lib/python3.7/site-packages/selenium/webdriver/remote/webdriver.py\u001b[0m in \u001b[0;36mexecute\u001b[0;34m(self, driver_command, params)\u001b[0m\n\u001b[1;32m    433\u001b[0m         \u001b[0mresponse\u001b[0m \u001b[0;34m=\u001b[0m \u001b[0mself\u001b[0m\u001b[0;34m.\u001b[0m\u001b[0mcommand_executor\u001b[0m\u001b[0;34m.\u001b[0m\u001b[0mexecute\u001b[0m\u001b[0;34m(\u001b[0m\u001b[0mdriver_command\u001b[0m\u001b[0;34m,\u001b[0m \u001b[0mparams\u001b[0m\u001b[0;34m)\u001b[0m\u001b[0;34m\u001b[0m\u001b[0;34m\u001b[0m\u001b[0m\n\u001b[1;32m    434\u001b[0m         \u001b[0;32mif\u001b[0m \u001b[0mresponse\u001b[0m\u001b[0;34m:\u001b[0m\u001b[0;34m\u001b[0m\u001b[0;34m\u001b[0m\u001b[0m\n\u001b[0;32m--> 435\u001b[0;31m             \u001b[0mself\u001b[0m\u001b[0;34m.\u001b[0m\u001b[0merror_handler\u001b[0m\u001b[0;34m.\u001b[0m\u001b[0mcheck_response\u001b[0m\u001b[0;34m(\u001b[0m\u001b[0mresponse\u001b[0m\u001b[0;34m)\u001b[0m\u001b[0;34m\u001b[0m\u001b[0;34m\u001b[0m\u001b[0m\n\u001b[0m\u001b[1;32m    436\u001b[0m             response['value'] = self._unwrap_value(\n\u001b[1;32m    437\u001b[0m                 response.get('value', None))\n",
      "\u001b[0;32m~/opt/anaconda3/lib/python3.7/site-packages/selenium/webdriver/remote/errorhandler.py\u001b[0m in \u001b[0;36mcheck_response\u001b[0;34m(self, response)\u001b[0m\n\u001b[1;32m    245\u001b[0m                 \u001b[0malert_text\u001b[0m \u001b[0;34m=\u001b[0m \u001b[0mvalue\u001b[0m\u001b[0;34m[\u001b[0m\u001b[0;34m'alert'\u001b[0m\u001b[0;34m]\u001b[0m\u001b[0;34m.\u001b[0m\u001b[0mget\u001b[0m\u001b[0;34m(\u001b[0m\u001b[0;34m'text'\u001b[0m\u001b[0;34m)\u001b[0m\u001b[0;34m\u001b[0m\u001b[0;34m\u001b[0m\u001b[0m\n\u001b[1;32m    246\u001b[0m             \u001b[0;32mraise\u001b[0m \u001b[0mexception_class\u001b[0m\u001b[0;34m(\u001b[0m\u001b[0mmessage\u001b[0m\u001b[0;34m,\u001b[0m \u001b[0mscreen\u001b[0m\u001b[0;34m,\u001b[0m \u001b[0mstacktrace\u001b[0m\u001b[0;34m,\u001b[0m \u001b[0malert_text\u001b[0m\u001b[0;34m)\u001b[0m  \u001b[0;31m# type: ignore[call-arg]  # mypy is not smart enough here\u001b[0m\u001b[0;34m\u001b[0m\u001b[0;34m\u001b[0m\u001b[0m\n\u001b[0;32m--> 247\u001b[0;31m         \u001b[0;32mraise\u001b[0m \u001b[0mexception_class\u001b[0m\u001b[0;34m(\u001b[0m\u001b[0mmessage\u001b[0m\u001b[0;34m,\u001b[0m \u001b[0mscreen\u001b[0m\u001b[0;34m,\u001b[0m \u001b[0mstacktrace\u001b[0m\u001b[0;34m)\u001b[0m\u001b[0;34m\u001b[0m\u001b[0;34m\u001b[0m\u001b[0m\n\u001b[0m\u001b[1;32m    248\u001b[0m \u001b[0;34m\u001b[0m\u001b[0m\n\u001b[1;32m    249\u001b[0m     \u001b[0;32mdef\u001b[0m \u001b[0m_value_or_default\u001b[0m\u001b[0;34m(\u001b[0m\u001b[0mself\u001b[0m\u001b[0;34m,\u001b[0m \u001b[0mobj\u001b[0m\u001b[0;34m:\u001b[0m \u001b[0mMapping\u001b[0m\u001b[0;34m[\u001b[0m\u001b[0m_KT\u001b[0m\u001b[0;34m,\u001b[0m \u001b[0m_VT\u001b[0m\u001b[0;34m]\u001b[0m\u001b[0;34m,\u001b[0m \u001b[0mkey\u001b[0m\u001b[0;34m:\u001b[0m \u001b[0m_KT\u001b[0m\u001b[0;34m,\u001b[0m \u001b[0mdefault\u001b[0m\u001b[0;34m:\u001b[0m \u001b[0m_VT\u001b[0m\u001b[0;34m)\u001b[0m \u001b[0;34m->\u001b[0m \u001b[0m_VT\u001b[0m\u001b[0;34m:\u001b[0m\u001b[0;34m\u001b[0m\u001b[0;34m\u001b[0m\u001b[0m\n",
      "\u001b[0;31mNoSuchElementException\u001b[0m: Message: no such element: Unable to locate element: {\"method\":\"xpath\",\"selector\":\"//*[@id=\"grid-body\"]/div/div[1]/div[25]/a/div[1]/div[2]/div/div[1]/span\"}\n  (Session info: chrome=103.0.5060.53)\nStacktrace:\n0   chromedriver                        0x0000000105a89079 chromedriver + 4444281\n1   chromedriver                        0x0000000105a15403 chromedriver + 3970051\n2   chromedriver                        0x00000001056b0038 chromedriver + 409656\n3   chromedriver                        0x00000001056e62fd chromedriver + 631549\n4   chromedriver                        0x00000001056e6581 chromedriver + 632193\n5   chromedriver                        0x00000001057184f4 chromedriver + 836852\n6   chromedriver                        0x00000001057037bd chromedriver + 751549\n7   chromedriver                        0x0000000105716221 chromedriver + 827937\n8   chromedriver                        0x0000000105703683 chromedriver + 751235\n9   chromedriver                        0x00000001056d9a45 chromedriver + 580165\n10  chromedriver                        0x00000001056daa95 chromedriver + 584341\n11  chromedriver                        0x0000000105a5a55d chromedriver + 4253021\n12  chromedriver                        0x0000000105a5f3a1 chromedriver + 4273057\n13  chromedriver                        0x0000000105a6416f chromedriver + 4292975\n14  chromedriver                        0x0000000105a5fdea chromedriver + 4275690\n15  chromedriver                        0x0000000105a3954f chromedriver + 4117839\n16  chromedriver                        0x0000000105a79ed8 chromedriver + 4382424\n17  chromedriver                        0x0000000105a7a05f chromedriver + 4382815\n18  chromedriver                        0x0000000105a908d5 chromedriver + 4475093\n19  libsystem_pthread.dylib             0x00007ff811d5a4e1 _pthread_start + 125\n20  libsystem_pthread.dylib             0x00007ff811d55f6b thread_start + 15\n"
     ]
    }
   ],
   "source": [
    "for i in range(1,30):\n",
    "    price = driver.find_element(\"xpath\", '//*[@id=\"grid-body\"]/div/div[1]/div['+str(i)+']/a/div[1]/div[2]/div/div[1]/span').text\n",
    "    print(price)"
   ]
  },
  {
   "cell_type": "markdown",
   "metadata": {},
   "source": [
    "## To get the names of the first 30 shoes.\n"
   ]
  },
  {
   "cell_type": "code",
   "execution_count": 18,
   "metadata": {},
   "outputs": [
    {
     "name": "stdout",
     "output_type": "stream",
     "text": [
      "Air Jordan 4 Retro 'Infrared'\n",
      "Air Jordan 6 Retro 'Red Oreo'\n",
      "Dunk Low 'Black White'\n",
      "Dunk Low GS 'Black White'\n",
      "Air Jordan 4 Retro 'Military Black'\n",
      "Wmns Dunk Low 'Rose Whisper'\n",
      "Dunk Low PS 'Wolf Grey'\n",
      "Yeezy Slides 'Pure' 2021 Re-Release\n",
      "Air Jordan 4 Retro PS 'Military Black'\n",
      "Dunk High 'Black White'\n",
      "Air Jordan 11 Retro 'Cool Grey' 2021\n",
      "Air Jordan 1 Retro High OG 'Patent Bred'\n",
      "Yeezy Foam Runner 'Onyx'\n",
      "Wmns Dunk Low SE 'Safari Mix'\n",
      "Air Jordan 1 Low 'Shadow Toe'\n",
      "Air Jordan 4 Retro 'Red Thunder'\n",
      "Air Force 1 '07 'Triple White'\n",
      "Dunk Low GS 'Pure Platinum'\n",
      "Wmns Dunk Low 'Orange Paisley'\n",
      "Yeezy Boost 350 V2 'Onyx'\n",
      "Wmns Air Jordan 1 Mid SE 'Cream Dark Chocolate'\n",
      "Air Jordan 1 Retro High OG 'Stage Haze'\n",
      "Wmns Dunk Low 'Black White'\n",
      "Air Jordan 4 Retro PS 'University Blue'\n"
     ]
    },
    {
     "ename": "NoSuchElementException",
     "evalue": "Message: no such element: Unable to locate element: {\"method\":\"xpath\",\"selector\":\"//*[@id=\"grid-body\"]/div/div[1]/div[25]/a/div[1]/div[1]/div[1]\"}\n  (Session info: chrome=103.0.5060.53)\nStacktrace:\n0   chromedriver                        0x0000000105a89079 chromedriver + 4444281\n1   chromedriver                        0x0000000105a15403 chromedriver + 3970051\n2   chromedriver                        0x00000001056b0038 chromedriver + 409656\n3   chromedriver                        0x00000001056e62fd chromedriver + 631549\n4   chromedriver                        0x00000001056e6581 chromedriver + 632193\n5   chromedriver                        0x00000001057184f4 chromedriver + 836852\n6   chromedriver                        0x00000001057037bd chromedriver + 751549\n7   chromedriver                        0x0000000105716221 chromedriver + 827937\n8   chromedriver                        0x0000000105703683 chromedriver + 751235\n9   chromedriver                        0x00000001056d9a45 chromedriver + 580165\n10  chromedriver                        0x00000001056daa95 chromedriver + 584341\n11  chromedriver                        0x0000000105a5a55d chromedriver + 4253021\n12  chromedriver                        0x0000000105a5f3a1 chromedriver + 4273057\n13  chromedriver                        0x0000000105a6416f chromedriver + 4292975\n14  chromedriver                        0x0000000105a5fdea chromedriver + 4275690\n15  chromedriver                        0x0000000105a3954f chromedriver + 4117839\n16  chromedriver                        0x0000000105a79ed8 chromedriver + 4382424\n17  chromedriver                        0x0000000105a7a05f chromedriver + 4382815\n18  chromedriver                        0x0000000105a908d5 chromedriver + 4475093\n19  libsystem_pthread.dylib             0x00007ff811d5a4e1 _pthread_start + 125\n20  libsystem_pthread.dylib             0x00007ff811d55f6b thread_start + 15\n",
     "output_type": "error",
     "traceback": [
      "\u001b[0;31m---------------------------------------------------------------------------\u001b[0m",
      "\u001b[0;31mNoSuchElementException\u001b[0m                    Traceback (most recent call last)",
      "\u001b[0;32m<ipython-input-18-80ef41b2dc0d>\u001b[0m in \u001b[0;36m<module>\u001b[0;34m\u001b[0m\n\u001b[1;32m      1\u001b[0m \u001b[0;32mfor\u001b[0m \u001b[0mj\u001b[0m \u001b[0;32min\u001b[0m \u001b[0mrange\u001b[0m\u001b[0;34m(\u001b[0m\u001b[0;36m1\u001b[0m\u001b[0;34m,\u001b[0m\u001b[0;36m30\u001b[0m\u001b[0;34m)\u001b[0m\u001b[0;34m:\u001b[0m\u001b[0;34m\u001b[0m\u001b[0;34m\u001b[0m\u001b[0m\n\u001b[0;32m----> 2\u001b[0;31m     \u001b[0mnames\u001b[0m \u001b[0;34m=\u001b[0m \u001b[0mdriver\u001b[0m\u001b[0;34m.\u001b[0m\u001b[0mfind_element\u001b[0m\u001b[0;34m(\u001b[0m\u001b[0;34m\"xpath\"\u001b[0m\u001b[0;34m,\u001b[0m \u001b[0;34m'//*[@id=\"grid-body\"]/div/div[1]/div['\u001b[0m\u001b[0;34m+\u001b[0m\u001b[0mstr\u001b[0m\u001b[0;34m(\u001b[0m\u001b[0mj\u001b[0m\u001b[0;34m)\u001b[0m\u001b[0;34m+\u001b[0m\u001b[0;34m']/a/div[1]/div[1]/div[1]'\u001b[0m\u001b[0;34m)\u001b[0m\u001b[0;34m.\u001b[0m\u001b[0mtext\u001b[0m\u001b[0;34m\u001b[0m\u001b[0;34m\u001b[0m\u001b[0m\n\u001b[0m\u001b[1;32m      3\u001b[0m     \u001b[0mprint\u001b[0m\u001b[0;34m(\u001b[0m\u001b[0mnames\u001b[0m\u001b[0;34m)\u001b[0m\u001b[0;34m\u001b[0m\u001b[0;34m\u001b[0m\u001b[0m\n",
      "\u001b[0;32m~/opt/anaconda3/lib/python3.7/site-packages/selenium/webdriver/remote/webdriver.py\u001b[0m in \u001b[0;36mfind_element\u001b[0;34m(self, by, value)\u001b[0m\n\u001b[1;32m    857\u001b[0m         return self.execute(Command.FIND_ELEMENT, {\n\u001b[1;32m    858\u001b[0m             \u001b[0;34m'using'\u001b[0m\u001b[0;34m:\u001b[0m \u001b[0mby\u001b[0m\u001b[0;34m,\u001b[0m\u001b[0;34m\u001b[0m\u001b[0;34m\u001b[0m\u001b[0m\n\u001b[0;32m--> 859\u001b[0;31m             'value': value})['value']\n\u001b[0m\u001b[1;32m    860\u001b[0m \u001b[0;34m\u001b[0m\u001b[0m\n\u001b[1;32m    861\u001b[0m     \u001b[0;32mdef\u001b[0m \u001b[0mfind_elements\u001b[0m\u001b[0;34m(\u001b[0m\u001b[0mself\u001b[0m\u001b[0;34m,\u001b[0m \u001b[0mby\u001b[0m\u001b[0;34m=\u001b[0m\u001b[0mBy\u001b[0m\u001b[0;34m.\u001b[0m\u001b[0mID\u001b[0m\u001b[0;34m,\u001b[0m \u001b[0mvalue\u001b[0m\u001b[0;34m=\u001b[0m\u001b[0;32mNone\u001b[0m\u001b[0;34m)\u001b[0m \u001b[0;34m->\u001b[0m \u001b[0mList\u001b[0m\u001b[0;34m[\u001b[0m\u001b[0mWebElement\u001b[0m\u001b[0;34m]\u001b[0m\u001b[0;34m:\u001b[0m\u001b[0;34m\u001b[0m\u001b[0;34m\u001b[0m\u001b[0m\n",
      "\u001b[0;32m~/opt/anaconda3/lib/python3.7/site-packages/selenium/webdriver/remote/webdriver.py\u001b[0m in \u001b[0;36mexecute\u001b[0;34m(self, driver_command, params)\u001b[0m\n\u001b[1;32m    433\u001b[0m         \u001b[0mresponse\u001b[0m \u001b[0;34m=\u001b[0m \u001b[0mself\u001b[0m\u001b[0;34m.\u001b[0m\u001b[0mcommand_executor\u001b[0m\u001b[0;34m.\u001b[0m\u001b[0mexecute\u001b[0m\u001b[0;34m(\u001b[0m\u001b[0mdriver_command\u001b[0m\u001b[0;34m,\u001b[0m \u001b[0mparams\u001b[0m\u001b[0;34m)\u001b[0m\u001b[0;34m\u001b[0m\u001b[0;34m\u001b[0m\u001b[0m\n\u001b[1;32m    434\u001b[0m         \u001b[0;32mif\u001b[0m \u001b[0mresponse\u001b[0m\u001b[0;34m:\u001b[0m\u001b[0;34m\u001b[0m\u001b[0;34m\u001b[0m\u001b[0m\n\u001b[0;32m--> 435\u001b[0;31m             \u001b[0mself\u001b[0m\u001b[0;34m.\u001b[0m\u001b[0merror_handler\u001b[0m\u001b[0;34m.\u001b[0m\u001b[0mcheck_response\u001b[0m\u001b[0;34m(\u001b[0m\u001b[0mresponse\u001b[0m\u001b[0;34m)\u001b[0m\u001b[0;34m\u001b[0m\u001b[0;34m\u001b[0m\u001b[0m\n\u001b[0m\u001b[1;32m    436\u001b[0m             response['value'] = self._unwrap_value(\n\u001b[1;32m    437\u001b[0m                 response.get('value', None))\n",
      "\u001b[0;32m~/opt/anaconda3/lib/python3.7/site-packages/selenium/webdriver/remote/errorhandler.py\u001b[0m in \u001b[0;36mcheck_response\u001b[0;34m(self, response)\u001b[0m\n\u001b[1;32m    245\u001b[0m                 \u001b[0malert_text\u001b[0m \u001b[0;34m=\u001b[0m \u001b[0mvalue\u001b[0m\u001b[0;34m[\u001b[0m\u001b[0;34m'alert'\u001b[0m\u001b[0;34m]\u001b[0m\u001b[0;34m.\u001b[0m\u001b[0mget\u001b[0m\u001b[0;34m(\u001b[0m\u001b[0;34m'text'\u001b[0m\u001b[0;34m)\u001b[0m\u001b[0;34m\u001b[0m\u001b[0;34m\u001b[0m\u001b[0m\n\u001b[1;32m    246\u001b[0m             \u001b[0;32mraise\u001b[0m \u001b[0mexception_class\u001b[0m\u001b[0;34m(\u001b[0m\u001b[0mmessage\u001b[0m\u001b[0;34m,\u001b[0m \u001b[0mscreen\u001b[0m\u001b[0;34m,\u001b[0m \u001b[0mstacktrace\u001b[0m\u001b[0;34m,\u001b[0m \u001b[0malert_text\u001b[0m\u001b[0;34m)\u001b[0m  \u001b[0;31m# type: ignore[call-arg]  # mypy is not smart enough here\u001b[0m\u001b[0;34m\u001b[0m\u001b[0;34m\u001b[0m\u001b[0m\n\u001b[0;32m--> 247\u001b[0;31m         \u001b[0;32mraise\u001b[0m \u001b[0mexception_class\u001b[0m\u001b[0;34m(\u001b[0m\u001b[0mmessage\u001b[0m\u001b[0;34m,\u001b[0m \u001b[0mscreen\u001b[0m\u001b[0;34m,\u001b[0m \u001b[0mstacktrace\u001b[0m\u001b[0;34m)\u001b[0m\u001b[0;34m\u001b[0m\u001b[0;34m\u001b[0m\u001b[0m\n\u001b[0m\u001b[1;32m    248\u001b[0m \u001b[0;34m\u001b[0m\u001b[0m\n\u001b[1;32m    249\u001b[0m     \u001b[0;32mdef\u001b[0m \u001b[0m_value_or_default\u001b[0m\u001b[0;34m(\u001b[0m\u001b[0mself\u001b[0m\u001b[0;34m,\u001b[0m \u001b[0mobj\u001b[0m\u001b[0;34m:\u001b[0m \u001b[0mMapping\u001b[0m\u001b[0;34m[\u001b[0m\u001b[0m_KT\u001b[0m\u001b[0;34m,\u001b[0m \u001b[0m_VT\u001b[0m\u001b[0;34m]\u001b[0m\u001b[0;34m,\u001b[0m \u001b[0mkey\u001b[0m\u001b[0;34m:\u001b[0m \u001b[0m_KT\u001b[0m\u001b[0;34m,\u001b[0m \u001b[0mdefault\u001b[0m\u001b[0;34m:\u001b[0m \u001b[0m_VT\u001b[0m\u001b[0;34m)\u001b[0m \u001b[0;34m->\u001b[0m \u001b[0m_VT\u001b[0m\u001b[0;34m:\u001b[0m\u001b[0;34m\u001b[0m\u001b[0;34m\u001b[0m\u001b[0m\n",
      "\u001b[0;31mNoSuchElementException\u001b[0m: Message: no such element: Unable to locate element: {\"method\":\"xpath\",\"selector\":\"//*[@id=\"grid-body\"]/div/div[1]/div[25]/a/div[1]/div[1]/div[1]\"}\n  (Session info: chrome=103.0.5060.53)\nStacktrace:\n0   chromedriver                        0x0000000105a89079 chromedriver + 4444281\n1   chromedriver                        0x0000000105a15403 chromedriver + 3970051\n2   chromedriver                        0x00000001056b0038 chromedriver + 409656\n3   chromedriver                        0x00000001056e62fd chromedriver + 631549\n4   chromedriver                        0x00000001056e6581 chromedriver + 632193\n5   chromedriver                        0x00000001057184f4 chromedriver + 836852\n6   chromedriver                        0x00000001057037bd chromedriver + 751549\n7   chromedriver                        0x0000000105716221 chromedriver + 827937\n8   chromedriver                        0x0000000105703683 chromedriver + 751235\n9   chromedriver                        0x00000001056d9a45 chromedriver + 580165\n10  chromedriver                        0x00000001056daa95 chromedriver + 584341\n11  chromedriver                        0x0000000105a5a55d chromedriver + 4253021\n12  chromedriver                        0x0000000105a5f3a1 chromedriver + 4273057\n13  chromedriver                        0x0000000105a6416f chromedriver + 4292975\n14  chromedriver                        0x0000000105a5fdea chromedriver + 4275690\n15  chromedriver                        0x0000000105a3954f chromedriver + 4117839\n16  chromedriver                        0x0000000105a79ed8 chromedriver + 4382424\n17  chromedriver                        0x0000000105a7a05f chromedriver + 4382815\n18  chromedriver                        0x0000000105a908d5 chromedriver + 4475093\n19  libsystem_pthread.dylib             0x00007ff811d5a4e1 _pthread_start + 125\n20  libsystem_pthread.dylib             0x00007ff811d55f6b thread_start + 15\n"
     ]
    }
   ],
   "source": [
    "for j in range(1,30):\n",
    "    names = driver.find_element(\"xpath\", '//*[@id=\"grid-body\"]/div/div[1]/div['+str(j)+']/a/div[1]/div[1]/div[1]').text\n",
    "    print(names)"
   ]
  },
  {
   "cell_type": "code",
   "execution_count": null,
   "metadata": {},
   "outputs": [],
   "source": []
  },
  {
   "cell_type": "code",
   "execution_count": null,
   "metadata": {},
   "outputs": [],
   "source": []
  }
 ],
 "metadata": {
  "kernelspec": {
   "display_name": "Python 3",
   "language": "python",
   "name": "python3"
  },
  "language_info": {
   "codemirror_mode": {
    "name": "ipython",
    "version": 3
   },
   "file_extension": ".py",
   "mimetype": "text/x-python",
   "name": "python",
   "nbconvert_exporter": "python",
   "pygments_lexer": "ipython3",
   "version": "3.7.6"
  }
 },
 "nbformat": 4,
 "nbformat_minor": 4
}
